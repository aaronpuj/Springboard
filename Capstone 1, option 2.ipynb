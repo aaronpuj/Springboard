{
 "cells": [
  {
   "cell_type": "code",
   "execution_count": 1,
   "metadata": {
    "collapsed": false,
    "scrolled": true
   },
   "outputs": [
    {
     "name": "stderr",
     "output_type": "stream",
     "text": [
      "C:\\Users\\Pujanande\\Anaconda3\\lib\\site-packages\\sklearn\\cross_validation.py:44: DeprecationWarning: This module was deprecated in version 0.18 in favor of the model_selection module into which all the refactored classes and functions are moved. Also note that the interface of the new CV iterators are different from that of this module. This module will be removed in 0.20.\n",
      "  \"This module will be removed in 0.20.\", DeprecationWarning)\n",
      "C:\\Users\\Pujanande\\Anaconda3\\lib\\site-packages\\sklearn\\grid_search.py:43: DeprecationWarning: This module was deprecated in version 0.18 in favor of the model_selection module into which all the refactored classes and functions are moved. This module will be removed in 0.20.\n",
      "  DeprecationWarning)\n",
      "C:\\Users\\Pujanande\\Anaconda3\\lib\\site-packages\\sklearn\\lda.py:6: DeprecationWarning: lda.LDA has been moved to discriminant_analysis.LinearDiscriminantAnalysis in 0.17 and will be removed in 0.19\n",
      "  \"in 0.17 and will be removed in 0.19\", DeprecationWarning)\n",
      "C:\\Users\\Pujanande\\Anaconda3\\lib\\site-packages\\sklearn\\learning_curve.py:23: DeprecationWarning: This module was deprecated in version 0.18 in favor of the model_selection module into which all the functions are moved. This module will be removed in 0.20\n",
      "  DeprecationWarning)\n",
      "C:\\Users\\Pujanande\\Anaconda3\\lib\\site-packages\\sklearn\\qda.py:6: DeprecationWarning: qda.QDA has been moved to discriminant_analysis.QuadraticDiscriminantAnalysis in 0.17 and will be removed in 0.19.\n",
      "  \"in 0.17 and will be removed in 0.19.\", DeprecationWarning)\n",
      "C:\\Users\\Pujanande\\Anaconda3\\lib\\site-packages\\ipykernel\\__main__.py:11: SettingWithCopyWarning: \n",
      "A value is trying to be set on a copy of a slice from a DataFrame\n",
      "\n",
      "See the caveats in the documentation: http://pandas.pydata.org/pandas-docs/stable/indexing.html#indexing-view-versus-copy\n",
      "C:\\Users\\Pujanande\\Anaconda3\\lib\\site-packages\\ipykernel\\__main__.py:14: SettingWithCopyWarning: \n",
      "A value is trying to be set on a copy of a slice from a DataFrame\n",
      "\n",
      "See the caveats in the documentation: http://pandas.pydata.org/pandas-docs/stable/indexing.html#indexing-view-versus-copy\n",
      "C:\\Users\\Pujanande\\Anaconda3\\lib\\site-packages\\ipykernel\\__main__.py:15: SettingWithCopyWarning: \n",
      "A value is trying to be set on a copy of a slice from a DataFrame\n",
      "\n",
      "See the caveats in the documentation: http://pandas.pydata.org/pandas-docs/stable/indexing.html#indexing-view-versus-copy\n"
     ]
    }
   ],
   "source": [
    "#get data and format\n",
    "from scipy import stats\n",
    "import numpy as np\n",
    "import pandas as pd\n",
    "from sklearn import *\n",
    "from math import sqrt\n",
    "import numpy as np\n",
    "\n",
    "data = pd.read_csv(r'C:\\Users\\Pujanande\\Desktop\\Capstone 1\\all_data_cap1.csv') #import data\n",
    "data['TRADE_DATE'] = pd.to_datetime(data['TRADE_DATE']) #convert to DT\n",
    "data['FERC_time'] = 0 #'off_peak' #make everthing off peak and then change it to peak if criteria are met\n",
    "data['FERC_time'][(data['TRADE_DATE'].dt.weekday <= 5) & (data['TRADE_DATE'].dt.hour >= 6) & (data['TRADE_DATE'].dt.hour <= 21)]=1 #'peak' \n",
    "\n",
    "data['FERC_season'] = 0 #'shoulder' #make everthing shoulder and then change it to winter or summer if criteria are met\n",
    "data['FERC_season'][(data['TRADE_DATE'].dt.month <= 2) | (data['TRADE_DATE'].dt.month >= 12)]= 1 # winter' \n",
    "data['FERC_season'][(data['TRADE_DATE'].dt.month <= 8) & (data['TRADE_DATE'].dt.month >= 6)]= 2"
   ]
  },
  {
   "cell_type": "code",
   "execution_count": 8,
   "metadata": {
    "collapsed": true
   },
   "outputs": [],
   "source": [
    "#create simple prediction function, this time predicting a price for each hour\n",
    "def simple_price_2(season, time):\n",
    "    season_name = data.loc[data['FERC_season'] == season] #subset data\n",
    "    period = season_name.loc[season_name['FERC_time'] == time]\n",
    "\n",
    "    year_list = data['TRADE_DATE'].dt.year #list unique years in data\n",
    "    year_list = np.unique(year_list)\n",
    "    \n",
    "    df = pd.DataFrame(columns=('mean','std','con_int')) #empty df\n",
    "    df2 = pd.DataFrame() #empty df\n",
    "    \n",
    "    for y in year_list : #for every year\n",
    "        year_df = period[period['TRADE_DATE'].dt.year == y] #split years\n",
    "        mean = year_df.PRICEINDOLPERMWH.mean() #mean of prices\n",
    "        std = year_df.PRICEINDOLPERMWH.std() #std of prices\n",
    "        con = stats.norm.interval(0.95, loc=mean, scale=std) #95% confidence range\n",
    "        df.loc[y] = [mean,std,con] #add to df\n",
    "        df2[y] = year_df.PRICEINDOLPERMWH\n",
    "    \n",
    "    df2['pred'] = df2.mean(numeric_only=True, axis=1) #predicted price average of historic\n",
    "    pred_mean = df2.pred.mean() # mean of predicted\n",
    "    pred_std = df2.pred.std() # std of predicted\n",
    "    pred_con = stats.norm.interval(0.95, loc=pred_mean, scale=pred_std) #95% confidence range\n",
    "        \n",
    "    df.loc['pred'] = [pred_mean,pred_std,pred_con] #add to df \n",
    "        \n",
    "    return print(df)"
   ]
  },
  {
   "cell_type": "code",
   "execution_count": 9,
   "metadata": {
    "collapsed": false
   },
   "outputs": [
    {
     "name": "stdout",
     "output_type": "stream",
     "text": [
      "           mean       std                         con_int\n",
      "2014  25.735525  5.117542  (15.7053270736, 35.7657227646)\n",
      "2015  17.450875  7.154513  (3.42828760952, 31.4734627899)\n",
      "2016  16.172487  5.932291  (4.54541091099, 27.7995625716)\n",
      "pred  25.735525  5.117542  (15.7053270736, 35.7657227646)\n"
     ]
    }
   ],
   "source": [
    "simple_price_2(0,0)"
   ]
  }
 ],
 "metadata": {
  "kernelspec": {
   "display_name": "Python 3",
   "language": "python",
   "name": "python3"
  },
  "language_info": {
   "codemirror_mode": {
    "name": "ipython",
    "version": 3
   },
   "file_extension": ".py",
   "mimetype": "text/x-python",
   "name": "python",
   "nbconvert_exporter": "python",
   "pygments_lexer": "ipython3",
   "version": "3.6.0"
  }
 },
 "nbformat": 4,
 "nbformat_minor": 2
}
