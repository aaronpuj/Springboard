{
 "cells": [
  {
   "cell_type": "markdown",
   "metadata": {},
   "source": [
    "**Hypothesis testing**\n",
    "\n",
    "My capstone project is intended to predict prices for 2 different periods (off-peak and peak) for three different seasons (summer, winter, and shoulder). \n",
    "\n",
    "For this report I intend to determine whether or not there is a statistically significant difference in the mean price between peak and off peak for each of the three seasons.\n",
    "\n",
    "My hypothesis is that the prices between peak and off peak are statisticall significant.\n",
    "\n",
    "My null hypotheisis is that prices are not different between the two periods."
   ]
  },
  {
   "cell_type": "code",
   "execution_count": 53,
   "metadata": {
    "collapsed": false
   },
   "outputs": [],
   "source": [
    "import pandas as pd\n",
    "import math\n",
    "import numpy as np\n",
    "import scipy.stats as st\n",
    "import statsmodels.api as sm\n",
    "\n",
    "data= pd.read_csv(r'C:\\Users\\Pujanande\\Desktop\\Capstone 1\\cap1_training_data.csv') #read in training data"
   ]
  },
  {
   "cell_type": "code",
   "execution_count": 54,
   "metadata": {
    "collapsed": false
   },
   "outputs": [],
   "source": [
    "summer = data['FERC_season'] == 'summer' #sample summer\n",
    "summer_df = data[summer][['FERC_time', 'PRICEINDOLPERMWH']]\n",
    "\n",
    "winter = data['FERC_season'] == 'winter' #sample winter\n",
    "winter_df = data[winter][['FERC_time', 'PRICEINDOLPERMWH']]\n",
    "\n",
    "shoulder = data['FERC_season'] == 'shoulder' #sample shoulder\n",
    "shoulder_df = data[shoulder][['FERC_time', 'PRICEINDOLPERMWH']]"
   ]
  },
  {
   "cell_type": "markdown",
   "metadata": {},
   "source": [
    "**Test for summer**"
   ]
  },
  {
   "cell_type": "code",
   "execution_count": 55,
   "metadata": {
    "collapsed": false
   },
   "outputs": [
    {
     "name": "stdout",
     "output_type": "stream",
     "text": [
      "summer peak\n",
      "mean: 8283\n",
      "mean: PRICEINDOLPERMWH    28.127083\n",
      "dtype: float64\n",
      "std: PRICEINDOLPERMWH    14.181533\n",
      "dtype: float64\n",
      "summer off-peak\n",
      "mean: 7249\n",
      "mean: PRICEINDOLPERMWH    23.698316\n",
      "dtype: float64\n",
      "std: PRICEINDOLPERMWH    8.26947\n",
      "dtype: float64\n"
     ]
    }
   ],
   "source": [
    "summer_peak = summer_df['FERC_time'] == 'peak' #sample peak\n",
    "summer_off_peak = summer_df['FERC_time'] == 'off_peak' #sample peak\n",
    "summer_p_df = summer_df[summer_peak][['PRICEINDOLPERMWH']]\n",
    "summer_op_df = summer_df[summer_off_peak][['PRICEINDOLPERMWH']]\n",
    "\n",
    "summer_p_sample = len(summer_p_df) #sample size \n",
    "summer_op_sample = len(summer_op_df)\n",
    "summer_p_mean = summer_p_df.mean() #sample mean\n",
    "summer_op_mean = summer_op_df.mean()\n",
    "summer_p_std = summer_p_df.std() #sample standard deviation\n",
    "summer_op_std = summer_op_df.std()\n",
    "\n",
    "print(\"summer peak\")\n",
    "print(\"mean:\",summer_p_sample)\n",
    "print(\"mean:\",summer_p_mean)\n",
    "print(\"std:\",summer_p_std)\n",
    "print(\"summer off-peak\")\n",
    "print(\"mean:\",summer_op_sample)\n",
    "print(\"mean:\",summer_op_mean)\n",
    "print(\"std:\",summer_op_std)"
   ]
  },
  {
   "cell_type": "code",
   "execution_count": 56,
   "metadata": {
    "collapsed": false,
    "scrolled": true
   },
   "outputs": [
    {
     "data": {
      "text/plain": [
       "PRICEINDOLPERMWH    24.119969\n",
       "dtype: float64"
      ]
     },
     "execution_count": 56,
     "metadata": {},
     "output_type": "execute_result"
    }
   ],
   "source": [
    "#use z test since sample size > 30\n",
    "#compute z value\n",
    "summer_zvalue = (summer_p_mean - summer_op_mean) / (math.sqrt(((summer_p_std**2)/summer_p_sample) + ((summer_op_std**2)/summer_op_sample)))\n",
    "summer_zvalue"
   ]
  },
  {
   "cell_type": "code",
   "execution_count": 57,
   "metadata": {
    "collapsed": false
   },
   "outputs": [
    {
     "data": {
      "text/plain": [
       "array([  1.54325166e-128])"
      ]
     },
     "execution_count": 57,
     "metadata": {},
     "output_type": "execute_result"
    }
   ],
   "source": [
    "#compute p-value\n",
    "summer_pvalue = st.norm.sf(abs(summer_zvalue))*2\n",
    "summer_pvalue"
   ]
  },
  {
   "cell_type": "markdown",
   "metadata": {},
   "source": [
    "**Test for winter**"
   ]
  },
  {
   "cell_type": "code",
   "execution_count": 58,
   "metadata": {
    "collapsed": false
   },
   "outputs": [
    {
     "name": "stdout",
     "output_type": "stream",
     "text": [
      "winter peak\n",
      "mean: 7951\n",
      "mean: PRICEINDOLPERMWH    22.464182\n",
      "dtype: float64\n",
      "std: PRICEINDOLPERMWH    8.904606\n",
      "dtype: float64\n",
      "winter off-peak\n",
      "mean: 5672\n",
      "mean: PRICEINDOLPERMWH    21.122593\n",
      "dtype: float64\n",
      "std: PRICEINDOLPERMWH    8.102258\n",
      "dtype: float64\n"
     ]
    }
   ],
   "source": [
    "winter_peak = winter_df['FERC_time'] == 'peak' #sample peak\n",
    "winter_off_peak = winter_df['FERC_time'] == 'off_peak' #sample peak\n",
    "winter_p_df = winter_df[winter_peak][['PRICEINDOLPERMWH']]\n",
    "winter_op_df = winter_df[winter_off_peak][['PRICEINDOLPERMWH']]\n",
    "\n",
    "winter_p_sample = len(winter_p_df) #sample size \n",
    "winter_op_sample = len(winter_op_df)\n",
    "winter_p_mean = winter_p_df.mean() #sample mean\n",
    "winter_op_mean = winter_op_df.mean()\n",
    "winter_p_std = winter_p_df.std() #sample standard deviation\n",
    "winter_op_std = winter_op_df.std()\n",
    "\n",
    "print(\"winter peak\")\n",
    "print(\"mean:\",winter_p_sample)\n",
    "print(\"mean:\",winter_p_mean)\n",
    "print(\"std:\",winter_p_std)\n",
    "print(\"winter off-peak\")\n",
    "print(\"mean:\",winter_op_sample)\n",
    "print(\"mean:\",winter_op_mean)\n",
    "print(\"std:\",winter_op_std)"
   ]
  },
  {
   "cell_type": "code",
   "execution_count": 59,
   "metadata": {
    "collapsed": false
   },
   "outputs": [
    {
     "data": {
      "text/plain": [
       "PRICEINDOLPERMWH    9.139704\n",
       "dtype: float64"
      ]
     },
     "execution_count": 59,
     "metadata": {},
     "output_type": "execute_result"
    }
   ],
   "source": [
    "#use z test since sample size > 30\n",
    "#compute z value\n",
    "winter_zvalue = (winter_p_mean - winter_op_mean) / (math.sqrt(((winter_p_std**2)/winter_p_sample) + ((winter_op_std**2)/winter_op_sample)))\n",
    "winter_zvalue"
   ]
  },
  {
   "cell_type": "code",
   "execution_count": 60,
   "metadata": {
    "collapsed": false
   },
   "outputs": [
    {
     "data": {
      "text/plain": [
       "array([  6.26236070e-20])"
      ]
     },
     "execution_count": 60,
     "metadata": {},
     "output_type": "execute_result"
    }
   ],
   "source": [
    "#compute p-value\n",
    "winter_pvalue = st.norm.sf(abs(winter_zvalue))*2\n",
    "winter_pvalue"
   ]
  },
  {
   "cell_type": "markdown",
   "metadata": {},
   "source": [
    "**Test for shoulder**"
   ]
  },
  {
   "cell_type": "code",
   "execution_count": 61,
   "metadata": {
    "collapsed": false
   },
   "outputs": [
    {
     "name": "stdout",
     "output_type": "stream",
     "text": [
      "shoulder peak\n",
      "mean: 19982\n",
      "mean: PRICEINDOLPERMWH    26.189026\n",
      "dtype: float64\n",
      "std: PRICEINDOLPERMWH    10.384733\n",
      "dtype: float64\n",
      "shoulder off-peak\n",
      "mean: 13358\n",
      "mean: PRICEINDOLPERMWH    22.241931\n",
      "dtype: float64\n",
      "std: PRICEINDOLPERMWH    7.312106\n",
      "dtype: float64\n"
     ]
    }
   ],
   "source": [
    "shoulder_peak = shoulder_df['FERC_time'] == 'peak' #sample peak\n",
    "shoulder_off_peak = shoulder_df['FERC_time'] == 'off_peak' #sample peak\n",
    "shoulder_p_df = shoulder_df[shoulder_peak][['PRICEINDOLPERMWH']]\n",
    "shoulder_op_df = shoulder_df[shoulder_off_peak][['PRICEINDOLPERMWH']]\n",
    "\n",
    "shoulder_p_sample = len(shoulder_p_df) #sample size \n",
    "shoulder_op_sample = len(shoulder_op_df)\n",
    "shoulder_p_mean = shoulder_p_df.mean() #sample mean\n",
    "shoulder_op_mean = shoulder_op_df.mean()\n",
    "shoulder_p_std = shoulder_p_df.std() #sample standard deviation\n",
    "shoulder_op_std = shoulder_op_df.std()\n",
    "\n",
    "print(\"shoulder peak\")\n",
    "print(\"mean:\",shoulder_p_sample)\n",
    "print(\"mean:\",shoulder_p_mean)\n",
    "print(\"std:\",shoulder_p_std)\n",
    "print(\"shoulder off-peak\")\n",
    "print(\"mean:\",shoulder_op_sample)\n",
    "print(\"mean:\",shoulder_op_mean)\n",
    "print(\"std:\",shoulder_op_std)"
   ]
  },
  {
   "cell_type": "code",
   "execution_count": 62,
   "metadata": {
    "collapsed": false
   },
   "outputs": [
    {
     "data": {
      "text/plain": [
       "PRICEINDOLPERMWH    40.712039\n",
       "dtype: float64"
      ]
     },
     "execution_count": 62,
     "metadata": {},
     "output_type": "execute_result"
    }
   ],
   "source": [
    "#use z test since sample size > 30\n",
    "#compute z value\n",
    "shoulder_zvalue = (shoulder_p_mean - shoulder_op_mean) / (math.sqrt(((shoulder_p_std**2)/shoulder_p_sample) + ((shoulder_op_std**2)/shoulder_op_sample)))\n",
    "shoulder_zvalue"
   ]
  },
  {
   "cell_type": "code",
   "execution_count": 63,
   "metadata": {
    "collapsed": false
   },
   "outputs": [
    {
     "data": {
      "text/plain": [
       "array([ 0.])"
      ]
     },
     "execution_count": 63,
     "metadata": {},
     "output_type": "execute_result"
    }
   ],
   "source": [
    "#compute p-value\n",
    "shoulder_pvalue = st.norm.sf(abs(shoulder_zvalue))*2\n",
    "shoulder_pvalue"
   ]
  },
  {
   "cell_type": "markdown",
   "metadata": {},
   "source": [
    "The above pvalue shows that the results are significant at the .01 level so we reject the null and accept the hypothesis that the prices between peridos are significant.\n",
    "\n",
    "In order to measure how different we can compute the relative difference."
   ]
  },
  {
   "cell_type": "code",
   "execution_count": 64,
   "metadata": {
    "collapsed": false
   },
   "outputs": [
    {
     "name": "stdout",
     "output_type": "stream",
     "text": [
      "summer difference: PRICEINDOLPERMWH    0.157456\n",
      "dtype: float64\n",
      "winter difference: PRICEINDOLPERMWH    0.059721\n",
      "dtype: float64\n",
      "shoulder difference: PRICEINDOLPERMWH    0.150716\n",
      "dtype: float64\n"
     ]
    }
   ],
   "source": [
    "relative_difference_sum = (summer_p_mean-summer_op_mean)/summer_p_mean\n",
    "relative_difference_win = (winter_p_mean-winter_op_mean)/winter_p_mean\n",
    "relative_difference_sho = (shoulder_p_mean-shoulder_op_mean)/shoulder_p_mean\n",
    "\n",
    "print(\"summer difference:\",relative_difference_sum)\n",
    "print(\"winter difference:\",relative_difference_win)\n",
    "print(\"shoulder difference:\",relative_difference_sho)"
   ]
  },
  {
   "cell_type": "markdown",
   "metadata": {},
   "source": [
    "** Conclusion **\n",
    "\n",
    "According to this analysis prices are different between the peak and off peak periods.\n",
    "\n",
    "The difference is mot pronounced during the Summer and Shoulder periods at ~15% and less pronounced during the winter period at ~6%."
   ]
  }
 ],
 "metadata": {
  "kernelspec": {
   "display_name": "Python 3",
   "language": "python",
   "name": "python3"
  },
  "language_info": {
   "codemirror_mode": {
    "name": "ipython",
    "version": 3
   },
   "file_extension": ".py",
   "mimetype": "text/x-python",
   "name": "python",
   "nbconvert_exporter": "python",
   "pygments_lexer": "ipython3",
   "version": "3.6.0"
  }
 },
 "nbformat": 4,
 "nbformat_minor": 2
}
