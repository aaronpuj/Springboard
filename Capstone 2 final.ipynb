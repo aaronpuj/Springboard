{
 "cells": [
  {
   "cell_type": "markdown",
   "metadata": {},
   "source": [
    "Import data"
   ]
  },
  {
   "cell_type": "code",
   "execution_count": 1,
   "metadata": {
    "collapsed": true
   },
   "outputs": [
    {
     "name": "stderr",
     "output_type": "stream",
     "text": [
      "C:\\Users\\anhem44\\AppData\\Local\\Continuum\\Anaconda3\\lib\\site-packages\\sklearn\\cross_validation.py:44: DeprecationWarning: This module was deprecated in version 0.18 in favor of the model_selection module into which all the refactored classes and functions are moved. Also note that the interface of the new CV iterators are different from that of this module. This module will be removed in 0.20.\n",
      "  \"This module will be removed in 0.20.\", DeprecationWarning)\n",
      "C:\\Users\\anhem44\\AppData\\Local\\Continuum\\Anaconda3\\lib\\site-packages\\sklearn\\grid_search.py:43: DeprecationWarning: This module was deprecated in version 0.18 in favor of the model_selection module into which all the refactored classes and functions are moved. This module will be removed in 0.20.\n",
      "  DeprecationWarning)\n",
      "C:\\Users\\anhem44\\AppData\\Local\\Continuum\\Anaconda3\\lib\\site-packages\\sklearn\\lda.py:6: DeprecationWarning: lda.LDA has been moved to discriminant_analysis.LinearDiscriminantAnalysis in 0.17 and will be removed in 0.19\n",
      "  \"in 0.17 and will be removed in 0.19\", DeprecationWarning)\n",
      "C:\\Users\\anhem44\\AppData\\Local\\Continuum\\Anaconda3\\lib\\site-packages\\sklearn\\learning_curve.py:23: DeprecationWarning: This module was deprecated in version 0.18 in favor of the model_selection module into which all the functions are moved. This module will be removed in 0.20\n",
      "  DeprecationWarning)\n",
      "C:\\Users\\anhem44\\AppData\\Local\\Continuum\\Anaconda3\\lib\\site-packages\\sklearn\\qda.py:6: DeprecationWarning: qda.QDA has been moved to discriminant_analysis.QuadraticDiscriminantAnalysis in 0.17 and will be removed in 0.19.\n",
      "  \"in 0.17 and will be removed in 0.19.\", DeprecationWarning)\n",
      "C:\\Users\\anhem44\\AppData\\Local\\Continuum\\Anaconda3\\lib\\site-packages\\IPython\\core\\interactiveshell.py:2717: DtypeWarning: Columns (22,32,34,49,55) have mixed types. Specify dtype option on import or set low_memory=False.\n",
      "  interactivity=interactivity, compiler=compiler, result=result)\n"
     ]
    }
   ],
   "source": [
    "import pandas as pd\n",
    "import numpy as np\n",
    "import matplotlib as plt\n",
    "import datetime as dt\n",
    "from sklearn import * \n",
    "% matplotlib inline\n",
    "\n",
    "data = pd.read_csv(r'C:\\Users\\anhem44\\Desktop\\Capstone 2\\properties_2016.csv',index_col='parcelid')\n",
    "y_data = pd.read_csv(r'C:\\Users\\anhem44\\Desktop\\Capstone 2\\train_2016_v2.csv',index_col='parcelid')"
   ]
  },
  {
   "cell_type": "markdown",
   "metadata": {},
   "source": [
    "Divide data into clean data, categorical & continuous data with NaNs that need to be predicted"
   ]
  },
  {
   "cell_type": "code",
   "execution_count": 2,
   "metadata": {
    "collapsed": false
   },
   "outputs": [],
   "source": [
    "#Step 1\n",
    "def clean_x(x) :\n",
    "    #seperate data into frames based off of type\n",
    "    \n",
    "    cat_data = x[['architecturalstyletypeid','buildingqualitytypeid','numberofstories']]\n",
    "\n",
    "    cont_data = x[['structuretaxvaluedollarcnt','censustractandblock','lotsizesquarefeet','finishedsquarefeet50',\n",
    "                  'finishedsquarefeet15','finishedsquarefeet12','calculatedfinishedsquarefeet','finishedfloor1squarefeet']]\n",
    "\n",
    "    others = x.drop(x[['architecturalstyletypeid','buildingqualitytypeid','numberofstories',\n",
    "                         'calculatedbathnbr','structuretaxvaluedollarcnt','censustractandblock','lotsizesquarefeet',\n",
    "                         'finishedsquarefeet50','finishedsquarefeet15','finishedsquarefeet12','calculatedfinishedsquarefeet',\n",
    "                         'finishedfloor1squarefeet']], axis = 1)\n",
    "\n",
    "    others.fillna(0, inplace=True)\n",
    "    others.head()\n",
    "\n",
    "    data_list = others.select_dtypes(include=['object']) # list all non-numeric rows\n",
    "    numeric_only = others._get_numeric_data() #select only numeric rows\n",
    "\n",
    "    for column in data_list : #make sure all non-numerics are strings\n",
    "        data_list[column] = data_list[column].astype(str)\n",
    "\n",
    "    data_list = data_list.apply(preprocessing.LabelEncoder().fit_transform) #encode all nun-numerics using labels\n",
    "    numeric_only = numeric_only.apply(preprocessing.LabelEncoder().fit_transform)\n",
    "    data_clean = pd.concat([numeric_only, data_list], axis=1,join_axes=[x.index]) #re-join numeric and non-numeric\n",
    "    \n",
    "    return cat_data, cont_data, data_clean"
   ]
  },
  {
   "cell_type": "markdown",
   "metadata": {},
   "source": [
    "Predict categorical variables"
   ]
  },
  {
   "cell_type": "code",
   "execution_count": 3,
   "metadata": {
    "collapsed": true
   },
   "outputs": [],
   "source": [
    "#step 2\n",
    "def cat_nan(cat_data,data_clean):\n",
    "    #use list of names for for loop\n",
    "    cat_list = list(cat_data) #turn column names into a list\n",
    "    \n",
    "    #dfs function will fill and return\n",
    "    cat_df = pd.DataFrame(index=data_clean.index) #will fill this df w/best prediction answer in a column\n",
    "    cat_nan_df = pd.DataFrame(columns=['KNN_mean','LGR_mean','RF_mean','best']) #df that will give the score and best \n",
    "    \n",
    "    for i in cat_list :\n",
    "        # 1- select only those cells w/values for training set\n",
    "        df_c = pd.concat([data_clean, cat_data[i]],axis=1,join_axes=[data_clean.index]) #join cat data to clean data\n",
    "        \n",
    "        df_n_null = df_c[i].notnull() #data that is not null for training set\n",
    "        df_n_null = df_c[df_n_null]\n",
    "        df_null = df_c[i].isnull() #data that is null for prediction set\n",
    "        df_null = df_c[df_null]\n",
    "        \n",
    "        y = pd.DataFrame(df_n_null[i]) #target as df\n",
    "        x = df_n_null.drop(i,axis=1) #remove target from testing set as df\n",
    "        \n",
    "        y = y.apply(preprocessing.LabelEncoder().fit_transform) #preproccess target\n",
    "        \n",
    "        # 2- Use kfolds for test\n",
    "        kfold = cross_validation.KFold(len(x),n_folds=5, random_state=42)\n",
    "        \n",
    "        # 3- run different tests\n",
    "        #KNN on test data\n",
    "        KNN_pred_error = []\n",
    "        for train, test in kfold :\n",
    "            x_train, x_test, y_train, y_test = x.iloc[train], x.iloc[test], y.iloc[train], y.iloc[test] \n",
    "            KNN = neighbors.KNeighborsClassifier() \n",
    "            KNN.fit(x_train,y_train)\n",
    "            KNN_score = KNN.score(x_test,y_test)\n",
    "            KNN_pred_error.append(KNN_score)\n",
    "        KNN_mean = np.mean(KNN_pred_error) #mean of each score\n",
    "        \n",
    "        #logistic regression on test data\n",
    "        LGR_pred_error = []\n",
    "        for train, test in kfold :\n",
    "            x_train, x_test, y_train, y_test = x.iloc[train], x.iloc[test], y.iloc[train], y.iloc[test]\n",
    "            LGR = linear_model.LogisticRegression()\n",
    "            LGR.fit(x_train,y_train)\n",
    "            LGR_score = LGR.score(x_test,y_test)\n",
    "            LGR_pred_error.append(LGR_score)\n",
    "        LGR_mean = np.mean(LGR_pred_error)\n",
    "        \n",
    "        #random forest\n",
    "        RF_pred_error = []\n",
    "        for train, test in kfold :\n",
    "            x_train, x_test, y_train, y_test = x.iloc[train], x.iloc[test], y.iloc[train], y.iloc[test]\n",
    "            RF = ensemble.RandomForestClassifier()\n",
    "            RF.fit(x_train,y_train)\n",
    "            RF_score = RF.score(x_test,y_test)\n",
    "            RF_pred_error.append(RF_score)\n",
    "        RF_mean = np.mean(RF_pred_error)\n",
    "        \n",
    "        # 4-calculate best predictor\n",
    "        \n",
    "        best = str() #will tag best predictor\n",
    "        if (KNN_mean != LGR_mean) & (KNN_mean != RF_mean) & (LGR_mean != RF_mean) :\n",
    "            if (KNN_mean > LGR_mean) & (KNN_mean > RF_mean) :\n",
    "                best = 'KNN' \n",
    "            elif (LGR_mean > KNN_mean) & (LGR_mean > RF_mean) :\n",
    "                best = 'LGR'\n",
    "            elif (RF_mean > LGR_mean) & (RF_mean > KNN_mean) :\n",
    "                best = 'RF'\n",
    "        elif KNN_mean == LGR_mean :\n",
    "            best = 'LGR' \n",
    "        elif KNN_mean == RF_mean :\n",
    "            best = 'KNN'\n",
    "        else :\n",
    "            best = 'LGR'\n",
    "        \n",
    "        # add to df\n",
    "        cat_nan_df.loc[i] = [KNN_mean,LGR_mean,RF_mean,best] #add all means and best to df\n",
    "        \n",
    "        # 5- use best predictor to predict missing values for predictor set\n",
    "        x_null = df_null.drop(i,axis=1)\n",
    "        \n",
    "        if best == 'KNN':\n",
    "            KNN = neighbors.KNeighborsClassifier()\n",
    "            KNN.fit(x,y)\n",
    "            prediction = KNN.predict(x_null) \n",
    "        elif best == 'LGR':\n",
    "            LGR = linear_model.LogisticRegression()\n",
    "            LGR.fit(x,y)\n",
    "            prediction = LGR.predict(x_null)\n",
    "        elif best == 'RF':\n",
    "            RF = ensemble.RandomForestClassifier()\n",
    "            RF.fit(x,y)\n",
    "            prediction = RF.predict(x_null)\n",
    "        \n",
    "        # 6-insert prediction into data\n",
    "        predicton_df = pd.DataFrame(index=x_null.index)\n",
    "        x_total = pd.DataFrame()\n",
    "        \n",
    "        predicton_df[i] = prediction\n",
    "        \n",
    "        x_total = pd.concat([predicton_df,y]) #combine prediction and test set\n",
    "        cat_df = pd.concat([cat_df, x_total], axis=1) #add complete column to df\n",
    "        \n",
    "    return cat_nan_df, cat_df"
   ]
  },
  {
   "cell_type": "markdown",
   "metadata": {},
   "source": [
    "Use the same procedure for continuous data"
   ]
  },
  {
   "cell_type": "code",
   "execution_count": 4,
   "metadata": {
    "collapsed": true
   },
   "outputs": [],
   "source": [
    "#step 3\n",
    "\n",
    "#select only those cells w/values\n",
    "def lin_nan(cont_data,data_clean):\n",
    "    #use list of names for for loop\n",
    "    lin_list = list(cont_data)\n",
    "    \n",
    "    #dfs function will fill and return\n",
    "    lin_df = pd.DataFrame(index=data_clean.index) #will fill this df w/best prediction answer in a column\n",
    "    lin_nan_df = pd.DataFrame(columns=['LR_mean','SV_mean','RF_mean','best'])#df that will give the score and best \n",
    "    \n",
    "    for i in lin_list :\n",
    "        df_c = pd.concat([data_clean, cont_data[i]],axis=1,join_axes=[data_clean.index]) #join cont data to clean data\n",
    "        \n",
    "        df_n_null = df_c[i].notnull() #data that is not null for training set\n",
    "        df_n_null = df_c[df_n_null]\n",
    "        df_null = df_c[i].isnull() #data that is null for prediction set\n",
    "        df_null = df_c[df_null]\n",
    "        \n",
    "        y = pd.DataFrame(df_n_null[i]) #target as df\n",
    "        x = df_n_null.drop(i,axis=1) #remove target from testing set as df\n",
    "        \n",
    "        y = y.apply(preprocessing.LabelEncoder().fit_transform) #preproccess target\n",
    "        \n",
    "        #2- use kfold crossvalidation\n",
    "        #Use kfolds for test\n",
    "        kfold = cross_validation.KFold(len(x),n_folds=5, random_state=42)\n",
    "        \n",
    "        # 3- run different tests\n",
    "        #linear regression\n",
    "        LR_pred_error = []\n",
    "        for train, test in kfold :\n",
    "            x_train, x_test, y_train, y_test = x.iloc[train], x.iloc[test], y.iloc[train], y.iloc[test]\n",
    "            LR = linear_model.LinearRegression()\n",
    "            LR.fit(x_train,y_train)\n",
    "            LR_score = LR.score(x_test,y_test)\n",
    "            LR_pred_error.append(LR_score)\n",
    "        LR_mean = np.mean(LR_pred_error) #mean of each score\n",
    "        \n",
    "        #SVM\n",
    "        SV_pred_error = []\n",
    "        for train, test in kfold :\n",
    "            x_train, x_test, y_train, y_test = x.iloc[train], x.iloc[test], y.iloc[train], y.iloc[test]\n",
    "            SV = svm.LinearSVR()\n",
    "            SV.fit(x_train,y_train)\n",
    "            SV_score = SV.score(x_test,y_test)\n",
    "            SV_pred_error.append(SV_score)\n",
    "        SV_mean = np.mean(SV_pred_error)\n",
    "        \n",
    "        #random forest\n",
    "        RF_pred_error = []\n",
    "        for train, test in kfold :\n",
    "            x_train, x_test, y_train, y_test = x.iloc[train], x.iloc[test], y.iloc[train], y.iloc[test]\n",
    "            RF = ensemble.RandomForestRegressor()\n",
    "            RF.fit(x_train,y_train)\n",
    "            RF_score = RF.score(x_test,y_test)\n",
    "            RF_pred_error.append(RF_score)\n",
    "        RF_mean = np.mean(RF_pred_error)\n",
    "        \n",
    "        #4- calculate best predictor\n",
    "        best = str()\n",
    "        if (LR_mean != SV_mean) & (LR_mean != RF_mean) & (SV_mean != RF_mean) :\n",
    "            if (LR_mean > SV_mean) & (LR_mean > RF_mean) :\n",
    "                best = 'LR'\n",
    "            elif (SV_mean > LR_mean) & (SV_mean > RF_mean) :\n",
    "                best = 'SV'\n",
    "            elif (RF_mean > SV_mean) & (RF_mean > LR_mean) :\n",
    "                best = 'RF'\n",
    "        elif LR_mean == SV_mean :\n",
    "            best = 'SV'\n",
    "        elif LR_mean == RF_mean :\n",
    "            best = 'KNN'\n",
    "        else :\n",
    "            best = 'SV'\n",
    "        \n",
    "        #add to df\n",
    "        lin_nan_df.loc[i] = [LR_mean,SV_mean,RF_mean,best]\n",
    "        \n",
    "        #use best predictor to predict missing values\n",
    "        x_null = df_null.drop(i,axis=1)\n",
    "        \n",
    "        # 5- use best predictor to predict missing values for predictor set\n",
    "        if best == 'LR':\n",
    "            LR = linear_model.LinearRegression()\n",
    "            LR.fit(x,y)\n",
    "            prediction = LR.predict(x_null) \n",
    "        elif best == 'SV':\n",
    "            SV = svm.LinearSVR()\n",
    "            SV.fit(x,y)\n",
    "            prediction = LGR.predict(x_null)\n",
    "        elif best == 'RF':\n",
    "            RF = ensemble.RandomForestRegressor()\n",
    "            RF.fit(x,y)\n",
    "            prediction = RF.predict(x_null)\n",
    "        \n",
    "        #6-insert prediction into data\n",
    "        predicton_df = pd.DataFrame(index=x_null.index)\n",
    "        x_total = pd.DataFrame()\n",
    "        \n",
    "        predicton_df[i] = prediction\n",
    "        \n",
    "        x_total = pd.concat([predicton_df,y])\n",
    "        lin_df = pd.concat([lin_df, x_total], axis=1)\n",
    "        \n",
    "    return lin_nan_df, lin_df"
   ]
  },
  {
   "cell_type": "markdown",
   "metadata": {},
   "source": [
    "Combine data into one frame and split out training data"
   ]
  },
  {
   "cell_type": "code",
   "execution_count": 5,
   "metadata": {
    "collapsed": false,
    "scrolled": true
   },
   "outputs": [],
   "source": [
    "#step 4\n",
    "def final_comb(data_clean,lin_pred,cat_pred):    \n",
    "    final_df = pd.concat([data_clean,lin_pred, cat_pred], axis=1) #combine all three\n",
    "    \n",
    "    train_data = pd.concat([y_data, final_df], axis=1,join_axes=[y_data.index]) #join on transaction's parcel ID\n",
    "    train_data['transactiondate'] = pd.to_datetime(train_data['transactiondate']) #make transdate a datetime\n",
    "    train_data['year'] = train_data['transactiondate'].dt.year #extract year\n",
    "    train_data['month']  = train_data['transactiondate'].dt.month #extract month\n",
    "    train_data['parcelid'] = train_data.index #make a coulumn out of the index\n",
    "    train_data.set_index(['parcelid','transactiondate'], inplace=True) #reset index\n",
    "    \n",
    "    return train_data, final_df"
   ]
  },
  {
   "cell_type": "markdown",
   "metadata": {},
   "source": [
    "Run all formulas"
   ]
  },
  {
   "cell_type": "code",
   "execution_count": 6,
   "metadata": {
    "collapsed": false,
    "scrolled": true
   },
   "outputs": [
    {
     "name": "stderr",
     "output_type": "stream",
     "text": [
      "C:\\Users\\anhem44\\AppData\\Local\\Continuum\\Anaconda3\\lib\\site-packages\\ipykernel\\__main__.py:23: SettingWithCopyWarning: \n",
      "A value is trying to be set on a copy of a slice from a DataFrame.\n",
      "Try using .loc[row_indexer,col_indexer] = value instead\n",
      "\n",
      "See the caveats in the documentation: http://pandas.pydata.org/pandas-docs/stable/indexing.html#indexing-view-versus-copy\n"
     ]
    },
    {
     "name": "stdout",
     "output_type": "stream",
     "text": [
      "clean done\n"
     ]
    },
    {
     "name": "stderr",
     "output_type": "stream",
     "text": [
      "C:\\Users\\anhem44\\AppData\\Local\\Continuum\\Anaconda3\\lib\\site-packages\\sklearn\\utils\\validation.py:526: DataConversionWarning: A column-vector y was passed when a 1d array was expected. Please change the shape of y to (n_samples, ), for example using ravel().\n",
      "  y = column_or_1d(y, warn=True)\n",
      "C:\\Users\\anhem44\\AppData\\Local\\Continuum\\Anaconda3\\lib\\site-packages\\ipykernel\\__main__.py:53: DataConversionWarning: A column-vector y was passed when a 1d array was expected. Please change the shape of y to (n_samples,), for example using ravel().\n",
      "C:\\Users\\anhem44\\AppData\\Local\\Continuum\\Anaconda3\\lib\\site-packages\\ipykernel\\__main__.py:53: DataConversionWarning: A column-vector y was passed when a 1d array was expected. Please change the shape of y to (n_samples,), for example using ravel().\n",
      "C:\\Users\\anhem44\\AppData\\Local\\Continuum\\Anaconda3\\lib\\site-packages\\ipykernel\\__main__.py:53: DataConversionWarning: A column-vector y was passed when a 1d array was expected. Please change the shape of y to (n_samples,), for example using ravel().\n",
      "C:\\Users\\anhem44\\AppData\\Local\\Continuum\\Anaconda3\\lib\\site-packages\\ipykernel\\__main__.py:53: DataConversionWarning: A column-vector y was passed when a 1d array was expected. Please change the shape of y to (n_samples,), for example using ravel().\n",
      "C:\\Users\\anhem44\\AppData\\Local\\Continuum\\Anaconda3\\lib\\site-packages\\ipykernel\\__main__.py:53: DataConversionWarning: A column-vector y was passed when a 1d array was expected. Please change the shape of y to (n_samples,), for example using ravel().\n",
      "C:\\Users\\anhem44\\AppData\\Local\\Continuum\\Anaconda3\\lib\\site-packages\\ipykernel\\__main__.py:90: DataConversionWarning: A column-vector y was passed when a 1d array was expected. Please change the shape of y to (n_samples,), for example using ravel().\n",
      "C:\\Users\\anhem44\\AppData\\Local\\Continuum\\Anaconda3\\lib\\site-packages\\sklearn\\utils\\validation.py:526: DataConversionWarning: A column-vector y was passed when a 1d array was expected. Please change the shape of y to (n_samples, ), for example using ravel().\n",
      "  y = column_or_1d(y, warn=True)\n",
      "C:\\Users\\anhem44\\AppData\\Local\\Continuum\\Anaconda3\\lib\\site-packages\\ipykernel\\__main__.py:53: DataConversionWarning: A column-vector y was passed when a 1d array was expected. Please change the shape of y to (n_samples,), for example using ravel().\n",
      "C:\\Users\\anhem44\\AppData\\Local\\Continuum\\Anaconda3\\lib\\site-packages\\ipykernel\\__main__.py:53: DataConversionWarning: A column-vector y was passed when a 1d array was expected. Please change the shape of y to (n_samples,), for example using ravel().\n",
      "C:\\Users\\anhem44\\AppData\\Local\\Continuum\\Anaconda3\\lib\\site-packages\\ipykernel\\__main__.py:53: DataConversionWarning: A column-vector y was passed when a 1d array was expected. Please change the shape of y to (n_samples,), for example using ravel().\n",
      "C:\\Users\\anhem44\\AppData\\Local\\Continuum\\Anaconda3\\lib\\site-packages\\ipykernel\\__main__.py:53: DataConversionWarning: A column-vector y was passed when a 1d array was expected. Please change the shape of y to (n_samples,), for example using ravel().\n",
      "C:\\Users\\anhem44\\AppData\\Local\\Continuum\\Anaconda3\\lib\\site-packages\\ipykernel\\__main__.py:53: DataConversionWarning: A column-vector y was passed when a 1d array was expected. Please change the shape of y to (n_samples,), for example using ravel().\n",
      "C:\\Users\\anhem44\\AppData\\Local\\Continuum\\Anaconda3\\lib\\site-packages\\ipykernel\\__main__.py:90: DataConversionWarning: A column-vector y was passed when a 1d array was expected. Please change the shape of y to (n_samples,), for example using ravel().\n",
      "C:\\Users\\anhem44\\AppData\\Local\\Continuum\\Anaconda3\\lib\\site-packages\\sklearn\\utils\\validation.py:526: DataConversionWarning: A column-vector y was passed when a 1d array was expected. Please change the shape of y to (n_samples, ), for example using ravel().\n",
      "  y = column_or_1d(y, warn=True)\n",
      "C:\\Users\\anhem44\\AppData\\Local\\Continuum\\Anaconda3\\lib\\site-packages\\ipykernel\\__main__.py:53: DataConversionWarning: A column-vector y was passed when a 1d array was expected. Please change the shape of y to (n_samples,), for example using ravel().\n",
      "C:\\Users\\anhem44\\AppData\\Local\\Continuum\\Anaconda3\\lib\\site-packages\\ipykernel\\__main__.py:53: DataConversionWarning: A column-vector y was passed when a 1d array was expected. Please change the shape of y to (n_samples,), for example using ravel().\n",
      "C:\\Users\\anhem44\\AppData\\Local\\Continuum\\Anaconda3\\lib\\site-packages\\ipykernel\\__main__.py:53: DataConversionWarning: A column-vector y was passed when a 1d array was expected. Please change the shape of y to (n_samples,), for example using ravel().\n",
      "C:\\Users\\anhem44\\AppData\\Local\\Continuum\\Anaconda3\\lib\\site-packages\\ipykernel\\__main__.py:53: DataConversionWarning: A column-vector y was passed when a 1d array was expected. Please change the shape of y to (n_samples,), for example using ravel().\n",
      "C:\\Users\\anhem44\\AppData\\Local\\Continuum\\Anaconda3\\lib\\site-packages\\ipykernel\\__main__.py:53: DataConversionWarning: A column-vector y was passed when a 1d array was expected. Please change the shape of y to (n_samples,), for example using ravel().\n",
      "C:\\Users\\anhem44\\AppData\\Local\\Continuum\\Anaconda3\\lib\\site-packages\\ipykernel\\__main__.py:90: DataConversionWarning: A column-vector y was passed when a 1d array was expected. Please change the shape of y to (n_samples,), for example using ravel().\n",
      "C:\\Users\\anhem44\\AppData\\Local\\Continuum\\Anaconda3\\lib\\site-packages\\sklearn\\utils\\validation.py:526: DataConversionWarning: A column-vector y was passed when a 1d array was expected. Please change the shape of y to (n_samples, ), for example using ravel().\n",
      "  y = column_or_1d(y, warn=True)\n",
      "C:\\Users\\anhem44\\AppData\\Local\\Continuum\\Anaconda3\\lib\\site-packages\\ipykernel\\__main__.py:53: DataConversionWarning: A column-vector y was passed when a 1d array was expected. Please change the shape of y to (n_samples,), for example using ravel().\n",
      "C:\\Users\\anhem44\\AppData\\Local\\Continuum\\Anaconda3\\lib\\site-packages\\ipykernel\\__main__.py:53: DataConversionWarning: A column-vector y was passed when a 1d array was expected. Please change the shape of y to (n_samples,), for example using ravel().\n",
      "C:\\Users\\anhem44\\AppData\\Local\\Continuum\\Anaconda3\\lib\\site-packages\\ipykernel\\__main__.py:53: DataConversionWarning: A column-vector y was passed when a 1d array was expected. Please change the shape of y to (n_samples,), for example using ravel().\n",
      "C:\\Users\\anhem44\\AppData\\Local\\Continuum\\Anaconda3\\lib\\site-packages\\ipykernel\\__main__.py:53: DataConversionWarning: A column-vector y was passed when a 1d array was expected. Please change the shape of y to (n_samples,), for example using ravel().\n",
      "C:\\Users\\anhem44\\AppData\\Local\\Continuum\\Anaconda3\\lib\\site-packages\\ipykernel\\__main__.py:53: DataConversionWarning: A column-vector y was passed when a 1d array was expected. Please change the shape of y to (n_samples,), for example using ravel().\n",
      "C:\\Users\\anhem44\\AppData\\Local\\Continuum\\Anaconda3\\lib\\site-packages\\ipykernel\\__main__.py:90: DataConversionWarning: A column-vector y was passed when a 1d array was expected. Please change the shape of y to (n_samples,), for example using ravel().\n",
      "C:\\Users\\anhem44\\AppData\\Local\\Continuum\\Anaconda3\\lib\\site-packages\\sklearn\\utils\\validation.py:526: DataConversionWarning: A column-vector y was passed when a 1d array was expected. Please change the shape of y to (n_samples, ), for example using ravel().\n",
      "  y = column_or_1d(y, warn=True)\n",
      "C:\\Users\\anhem44\\AppData\\Local\\Continuum\\Anaconda3\\lib\\site-packages\\ipykernel\\__main__.py:53: DataConversionWarning: A column-vector y was passed when a 1d array was expected. Please change the shape of y to (n_samples,), for example using ravel().\n",
      "C:\\Users\\anhem44\\AppData\\Local\\Continuum\\Anaconda3\\lib\\site-packages\\ipykernel\\__main__.py:53: DataConversionWarning: A column-vector y was passed when a 1d array was expected. Please change the shape of y to (n_samples,), for example using ravel().\n",
      "C:\\Users\\anhem44\\AppData\\Local\\Continuum\\Anaconda3\\lib\\site-packages\\ipykernel\\__main__.py:53: DataConversionWarning: A column-vector y was passed when a 1d array was expected. Please change the shape of y to (n_samples,), for example using ravel().\n",
      "C:\\Users\\anhem44\\AppData\\Local\\Continuum\\Anaconda3\\lib\\site-packages\\ipykernel\\__main__.py:53: DataConversionWarning: A column-vector y was passed when a 1d array was expected. Please change the shape of y to (n_samples,), for example using ravel().\n",
      "C:\\Users\\anhem44\\AppData\\Local\\Continuum\\Anaconda3\\lib\\site-packages\\ipykernel\\__main__.py:53: DataConversionWarning: A column-vector y was passed when a 1d array was expected. Please change the shape of y to (n_samples,), for example using ravel().\n",
      "C:\\Users\\anhem44\\AppData\\Local\\Continuum\\Anaconda3\\lib\\site-packages\\ipykernel\\__main__.py:90: DataConversionWarning: A column-vector y was passed when a 1d array was expected. Please change the shape of y to (n_samples,), for example using ravel().\n",
      "C:\\Users\\anhem44\\AppData\\Local\\Continuum\\Anaconda3\\lib\\site-packages\\sklearn\\utils\\validation.py:526: DataConversionWarning: A column-vector y was passed when a 1d array was expected. Please change the shape of y to (n_samples, ), for example using ravel().\n",
      "  y = column_or_1d(y, warn=True)\n",
      "C:\\Users\\anhem44\\AppData\\Local\\Continuum\\Anaconda3\\lib\\site-packages\\ipykernel\\__main__.py:53: DataConversionWarning: A column-vector y was passed when a 1d array was expected. Please change the shape of y to (n_samples,), for example using ravel().\n",
      "C:\\Users\\anhem44\\AppData\\Local\\Continuum\\Anaconda3\\lib\\site-packages\\ipykernel\\__main__.py:53: DataConversionWarning: A column-vector y was passed when a 1d array was expected. Please change the shape of y to (n_samples,), for example using ravel().\n",
      "C:\\Users\\anhem44\\AppData\\Local\\Continuum\\Anaconda3\\lib\\site-packages\\ipykernel\\__main__.py:53: DataConversionWarning: A column-vector y was passed when a 1d array was expected. Please change the shape of y to (n_samples,), for example using ravel().\n",
      "C:\\Users\\anhem44\\AppData\\Local\\Continuum\\Anaconda3\\lib\\site-packages\\ipykernel\\__main__.py:53: DataConversionWarning: A column-vector y was passed when a 1d array was expected. Please change the shape of y to (n_samples,), for example using ravel().\n",
      "C:\\Users\\anhem44\\AppData\\Local\\Continuum\\Anaconda3\\lib\\site-packages\\ipykernel\\__main__.py:53: DataConversionWarning: A column-vector y was passed when a 1d array was expected. Please change the shape of y to (n_samples,), for example using ravel().\n",
      "C:\\Users\\anhem44\\AppData\\Local\\Continuum\\Anaconda3\\lib\\site-packages\\ipykernel\\__main__.py:90: DataConversionWarning: A column-vector y was passed when a 1d array was expected. Please change the shape of y to (n_samples,), for example using ravel().\n",
      "C:\\Users\\anhem44\\AppData\\Local\\Continuum\\Anaconda3\\lib\\site-packages\\sklearn\\utils\\validation.py:526: DataConversionWarning: A column-vector y was passed when a 1d array was expected. Please change the shape of y to (n_samples, ), for example using ravel().\n",
      "  y = column_or_1d(y, warn=True)\n",
      "C:\\Users\\anhem44\\AppData\\Local\\Continuum\\Anaconda3\\lib\\site-packages\\ipykernel\\__main__.py:53: DataConversionWarning: A column-vector y was passed when a 1d array was expected. Please change the shape of y to (n_samples,), for example using ravel().\n",
      "C:\\Users\\anhem44\\AppData\\Local\\Continuum\\Anaconda3\\lib\\site-packages\\ipykernel\\__main__.py:53: DataConversionWarning: A column-vector y was passed when a 1d array was expected. Please change the shape of y to (n_samples,), for example using ravel().\n",
      "C:\\Users\\anhem44\\AppData\\Local\\Continuum\\Anaconda3\\lib\\site-packages\\ipykernel\\__main__.py:53: DataConversionWarning: A column-vector y was passed when a 1d array was expected. Please change the shape of y to (n_samples,), for example using ravel().\n",
      "C:\\Users\\anhem44\\AppData\\Local\\Continuum\\Anaconda3\\lib\\site-packages\\ipykernel\\__main__.py:53: DataConversionWarning: A column-vector y was passed when a 1d array was expected. Please change the shape of y to (n_samples,), for example using ravel().\n",
      "C:\\Users\\anhem44\\AppData\\Local\\Continuum\\Anaconda3\\lib\\site-packages\\ipykernel\\__main__.py:53: DataConversionWarning: A column-vector y was passed when a 1d array was expected. Please change the shape of y to (n_samples,), for example using ravel().\n",
      "C:\\Users\\anhem44\\AppData\\Local\\Continuum\\Anaconda3\\lib\\site-packages\\ipykernel\\__main__.py:90: DataConversionWarning: A column-vector y was passed when a 1d array was expected. Please change the shape of y to (n_samples,), for example using ravel().\n",
      "C:\\Users\\anhem44\\AppData\\Local\\Continuum\\Anaconda3\\lib\\site-packages\\sklearn\\utils\\validation.py:526: DataConversionWarning: A column-vector y was passed when a 1d array was expected. Please change the shape of y to (n_samples, ), for example using ravel().\n",
      "  y = column_or_1d(y, warn=True)\n",
      "C:\\Users\\anhem44\\AppData\\Local\\Continuum\\Anaconda3\\lib\\site-packages\\ipykernel\\__main__.py:53: DataConversionWarning: A column-vector y was passed when a 1d array was expected. Please change the shape of y to (n_samples,), for example using ravel().\n",
      "C:\\Users\\anhem44\\AppData\\Local\\Continuum\\Anaconda3\\lib\\site-packages\\ipykernel\\__main__.py:53: DataConversionWarning: A column-vector y was passed when a 1d array was expected. Please change the shape of y to (n_samples,), for example using ravel().\n",
      "C:\\Users\\anhem44\\AppData\\Local\\Continuum\\Anaconda3\\lib\\site-packages\\ipykernel\\__main__.py:53: DataConversionWarning: A column-vector y was passed when a 1d array was expected. Please change the shape of y to (n_samples,), for example using ravel().\n",
      "C:\\Users\\anhem44\\AppData\\Local\\Continuum\\Anaconda3\\lib\\site-packages\\ipykernel\\__main__.py:53: DataConversionWarning: A column-vector y was passed when a 1d array was expected. Please change the shape of y to (n_samples,), for example using ravel().\n",
      "C:\\Users\\anhem44\\AppData\\Local\\Continuum\\Anaconda3\\lib\\site-packages\\ipykernel\\__main__.py:53: DataConversionWarning: A column-vector y was passed when a 1d array was expected. Please change the shape of y to (n_samples,), for example using ravel().\n",
      "C:\\Users\\anhem44\\AppData\\Local\\Continuum\\Anaconda3\\lib\\site-packages\\ipykernel\\__main__.py:90: DataConversionWarning: A column-vector y was passed when a 1d array was expected. Please change the shape of y to (n_samples,), for example using ravel().\n"
     ]
    },
    {
     "name": "stdout",
     "output_type": "stream",
     "text": [
      "lin done\n"
     ]
    },
    {
     "name": "stderr",
     "output_type": "stream",
     "text": [
      "C:\\Users\\anhem44\\AppData\\Local\\Continuum\\Anaconda3\\lib\\site-packages\\ipykernel\\__main__.py:33: DataConversionWarning: A column-vector y was passed when a 1d array was expected. Please change the shape of y to (n_samples, ), for example using ravel().\n",
      "C:\\Users\\anhem44\\AppData\\Local\\Continuum\\Anaconda3\\lib\\site-packages\\sklearn\\utils\\validation.py:526: DataConversionWarning: A column-vector y was passed when a 1d array was expected. Please change the shape of y to (n_samples, ), for example using ravel().\n",
      "  y = column_or_1d(y, warn=True)\n",
      "C:\\Users\\anhem44\\AppData\\Local\\Continuum\\Anaconda3\\lib\\site-packages\\ipykernel\\__main__.py:53: DataConversionWarning: A column-vector y was passed when a 1d array was expected. Please change the shape of y to (n_samples,), for example using ravel().\n",
      "C:\\Users\\anhem44\\AppData\\Local\\Continuum\\Anaconda3\\lib\\site-packages\\ipykernel\\__main__.py:53: DataConversionWarning: A column-vector y was passed when a 1d array was expected. Please change the shape of y to (n_samples,), for example using ravel().\n",
      "C:\\Users\\anhem44\\AppData\\Local\\Continuum\\Anaconda3\\lib\\site-packages\\ipykernel\\__main__.py:53: DataConversionWarning: A column-vector y was passed when a 1d array was expected. Please change the shape of y to (n_samples,), for example using ravel().\n",
      "C:\\Users\\anhem44\\AppData\\Local\\Continuum\\Anaconda3\\lib\\site-packages\\ipykernel\\__main__.py:53: DataConversionWarning: A column-vector y was passed when a 1d array was expected. Please change the shape of y to (n_samples,), for example using ravel().\n",
      "C:\\Users\\anhem44\\AppData\\Local\\Continuum\\Anaconda3\\lib\\site-packages\\ipykernel\\__main__.py:53: DataConversionWarning: A column-vector y was passed when a 1d array was expected. Please change the shape of y to (n_samples,), for example using ravel().\n",
      "C:\\Users\\anhem44\\AppData\\Local\\Continuum\\Anaconda3\\lib\\site-packages\\sklearn\\utils\\validation.py:526: DataConversionWarning: A column-vector y was passed when a 1d array was expected. Please change the shape of y to (n_samples, ), for example using ravel().\n",
      "  y = column_or_1d(y, warn=True)\n",
      "C:\\Users\\anhem44\\AppData\\Local\\Continuum\\Anaconda3\\lib\\site-packages\\ipykernel\\__main__.py:33: DataConversionWarning: A column-vector y was passed when a 1d array was expected. Please change the shape of y to (n_samples, ), for example using ravel().\n",
      "C:\\Users\\anhem44\\AppData\\Local\\Continuum\\Anaconda3\\lib\\site-packages\\ipykernel\\__main__.py:53: DataConversionWarning: A column-vector y was passed when a 1d array was expected. Please change the shape of y to (n_samples,), for example using ravel().\n",
      "C:\\Users\\anhem44\\AppData\\Local\\Continuum\\Anaconda3\\lib\\site-packages\\ipykernel\\__main__.py:53: DataConversionWarning: A column-vector y was passed when a 1d array was expected. Please change the shape of y to (n_samples,), for example using ravel().\n",
      "C:\\Users\\anhem44\\AppData\\Local\\Continuum\\Anaconda3\\lib\\site-packages\\ipykernel\\__main__.py:53: DataConversionWarning: A column-vector y was passed when a 1d array was expected. Please change the shape of y to (n_samples,), for example using ravel().\n",
      "C:\\Users\\anhem44\\AppData\\Local\\Continuum\\Anaconda3\\lib\\site-packages\\ipykernel\\__main__.py:53: DataConversionWarning: A column-vector y was passed when a 1d array was expected. Please change the shape of y to (n_samples,), for example using ravel().\n",
      "C:\\Users\\anhem44\\AppData\\Local\\Continuum\\Anaconda3\\lib\\site-packages\\ipykernel\\__main__.py:53: DataConversionWarning: A column-vector y was passed when a 1d array was expected. Please change the shape of y to (n_samples,), for example using ravel().\n",
      "C:\\Users\\anhem44\\AppData\\Local\\Continuum\\Anaconda3\\lib\\site-packages\\ipykernel\\__main__.py:91: DataConversionWarning: A column-vector y was passed when a 1d array was expected. Please change the shape of y to (n_samples,), for example using ravel().\n",
      "C:\\Users\\anhem44\\AppData\\Local\\Continuum\\Anaconda3\\lib\\site-packages\\ipykernel\\__main__.py:33: DataConversionWarning: A column-vector y was passed when a 1d array was expected. Please change the shape of y to (n_samples, ), for example using ravel().\n",
      "C:\\Users\\anhem44\\AppData\\Local\\Continuum\\Anaconda3\\lib\\site-packages\\sklearn\\utils\\validation.py:526: DataConversionWarning: A column-vector y was passed when a 1d array was expected. Please change the shape of y to (n_samples, ), for example using ravel().\n",
      "  y = column_or_1d(y, warn=True)\n",
      "C:\\Users\\anhem44\\AppData\\Local\\Continuum\\Anaconda3\\lib\\site-packages\\ipykernel\\__main__.py:53: DataConversionWarning: A column-vector y was passed when a 1d array was expected. Please change the shape of y to (n_samples,), for example using ravel().\n",
      "C:\\Users\\anhem44\\AppData\\Local\\Continuum\\Anaconda3\\lib\\site-packages\\ipykernel\\__main__.py:53: DataConversionWarning: A column-vector y was passed when a 1d array was expected. Please change the shape of y to (n_samples,), for example using ravel().\n",
      "C:\\Users\\anhem44\\AppData\\Local\\Continuum\\Anaconda3\\lib\\site-packages\\ipykernel\\__main__.py:53: DataConversionWarning: A column-vector y was passed when a 1d array was expected. Please change the shape of y to (n_samples,), for example using ravel().\n",
      "C:\\Users\\anhem44\\AppData\\Local\\Continuum\\Anaconda3\\lib\\site-packages\\ipykernel\\__main__.py:53: DataConversionWarning: A column-vector y was passed when a 1d array was expected. Please change the shape of y to (n_samples,), for example using ravel().\n",
      "C:\\Users\\anhem44\\AppData\\Local\\Continuum\\Anaconda3\\lib\\site-packages\\ipykernel\\__main__.py:53: DataConversionWarning: A column-vector y was passed when a 1d array was expected. Please change the shape of y to (n_samples,), for example using ravel().\n",
      "C:\\Users\\anhem44\\AppData\\Local\\Continuum\\Anaconda3\\lib\\site-packages\\ipykernel\\__main__.py:91: DataConversionWarning: A column-vector y was passed when a 1d array was expected. Please change the shape of y to (n_samples,), for example using ravel().\n"
     ]
    },
    {
     "name": "stdout",
     "output_type": "stream",
     "text": [
      "cat done\n",
      "fin done\n",
      "export done\n"
     ]
    }
   ],
   "source": [
    "cat_data, cont_data, data_clean = clean_x(data)\n",
    "print(\"clean done\")\n",
    "lin_info, lin_pred = lin_nan(cont_data,data_clean)\n",
    "print(\"lin done\")\n",
    "cat_info, cat_pred = cat_nan(cat_data,data_clean)\n",
    "print(\"cat done\")\n",
    "final_train, final_df = final_comb(data_clean,lin_pred,cat_pred)\n",
    "print(\"fin done\")\n",
    "final_df.to_csv(r'C:\\Users\\anhem44\\Desktop\\Capstone 2\\zillow_train.csv')\n",
    "final_train.to_csv(r'C:\\Users\\anhem44\\Desktop\\Capstone 2\\zillow_final.csv')\n",
    "print(\"export done\")"
   ]
  },
  {
   "cell_type": "markdown",
   "metadata": {},
   "source": [
    "Check the functions results"
   ]
  },
  {
   "cell_type": "code",
   "execution_count": 27,
   "metadata": {
    "collapsed": false,
    "scrolled": false
   },
   "outputs": [
    {
     "data": {
      "text/html": [
       "<div>\n",
       "<table border=\"1\" class=\"dataframe\">\n",
       "  <thead>\n",
       "    <tr style=\"text-align: right;\">\n",
       "      <th></th>\n",
       "      <th>LR_mean</th>\n",
       "      <th>SV_mean</th>\n",
       "      <th>RF_mean</th>\n",
       "      <th>best</th>\n",
       "    </tr>\n",
       "  </thead>\n",
       "  <tbody>\n",
       "    <tr>\n",
       "      <th>structuretaxvaluedollarcnt</th>\n",
       "      <td>0.886787</td>\n",
       "      <td>0.745526</td>\n",
       "      <td>0.998714</td>\n",
       "      <td>RF</td>\n",
       "    </tr>\n",
       "    <tr>\n",
       "      <th>censustractandblock</th>\n",
       "      <td>0.996779</td>\n",
       "      <td>0.996637</td>\n",
       "      <td>0.999448</td>\n",
       "      <td>RF</td>\n",
       "    </tr>\n",
       "    <tr>\n",
       "      <th>lotsizesquarefeet</th>\n",
       "      <td>0.393457</td>\n",
       "      <td>-0.413261</td>\n",
       "      <td>0.940742</td>\n",
       "      <td>RF</td>\n",
       "    </tr>\n",
       "    <tr>\n",
       "      <th>finishedsquarefeet50</th>\n",
       "      <td>0.498500</td>\n",
       "      <td>-0.289690</td>\n",
       "      <td>0.830964</td>\n",
       "      <td>RF</td>\n",
       "    </tr>\n",
       "    <tr>\n",
       "      <th>finishedsquarefeet15</th>\n",
       "      <td>0.595629</td>\n",
       "      <td>-0.237348</td>\n",
       "      <td>0.776869</td>\n",
       "      <td>RF</td>\n",
       "    </tr>\n",
       "    <tr>\n",
       "      <th>finishedsquarefeet12</th>\n",
       "      <td>0.765353</td>\n",
       "      <td>-0.012208</td>\n",
       "      <td>0.891442</td>\n",
       "      <td>RF</td>\n",
       "    </tr>\n",
       "    <tr>\n",
       "      <th>calculatedfinishedsquarefeet</th>\n",
       "      <td>0.700614</td>\n",
       "      <td>0.256692</td>\n",
       "      <td>0.878971</td>\n",
       "      <td>RF</td>\n",
       "    </tr>\n",
       "    <tr>\n",
       "      <th>finishedfloor1squarefeet</th>\n",
       "      <td>0.509065</td>\n",
       "      <td>-0.064494</td>\n",
       "      <td>0.853631</td>\n",
       "      <td>RF</td>\n",
       "    </tr>\n",
       "  </tbody>\n",
       "</table>\n",
       "</div>"
      ],
      "text/plain": [
       "                               LR_mean   SV_mean   RF_mean best\n",
       "structuretaxvaluedollarcnt    0.886787  0.745526  0.998714   RF\n",
       "censustractandblock           0.996779  0.996637  0.999448   RF\n",
       "lotsizesquarefeet             0.393457 -0.413261  0.940742   RF\n",
       "finishedsquarefeet50          0.498500 -0.289690  0.830964   RF\n",
       "finishedsquarefeet15          0.595629 -0.237348  0.776869   RF\n",
       "finishedsquarefeet12          0.765353 -0.012208  0.891442   RF\n",
       "calculatedfinishedsquarefeet  0.700614  0.256692  0.878971   RF\n",
       "finishedfloor1squarefeet      0.509065 -0.064494  0.853631   RF"
      ]
     },
     "execution_count": 27,
     "metadata": {},
     "output_type": "execute_result"
    }
   ],
   "source": [
    "lin_info"
   ]
  },
  {
   "cell_type": "code",
   "execution_count": 28,
   "metadata": {
    "collapsed": false
   },
   "outputs": [
    {
     "data": {
      "text/html": [
       "<div>\n",
       "<table border=\"1\" class=\"dataframe\">\n",
       "  <thead>\n",
       "    <tr style=\"text-align: right;\">\n",
       "      <th></th>\n",
       "      <th>KNN_mean</th>\n",
       "      <th>LGR_mean</th>\n",
       "      <th>RF_mean</th>\n",
       "      <th>best</th>\n",
       "    </tr>\n",
       "  </thead>\n",
       "  <tbody>\n",
       "    <tr>\n",
       "      <th>architecturalstyletypeid</th>\n",
       "      <td>0.858438</td>\n",
       "      <td>0.866357</td>\n",
       "      <td>0.861571</td>\n",
       "      <td>LGR</td>\n",
       "    </tr>\n",
       "    <tr>\n",
       "      <th>buildingqualitytypeid</th>\n",
       "      <td>0.811092</td>\n",
       "      <td>0.708844</td>\n",
       "      <td>0.918914</td>\n",
       "      <td>RF</td>\n",
       "    </tr>\n",
       "    <tr>\n",
       "      <th>numberofstories</th>\n",
       "      <td>0.764357</td>\n",
       "      <td>0.687398</td>\n",
       "      <td>0.919020</td>\n",
       "      <td>RF</td>\n",
       "    </tr>\n",
       "  </tbody>\n",
       "</table>\n",
       "</div>"
      ],
      "text/plain": [
       "                          KNN_mean  LGR_mean   RF_mean best\n",
       "architecturalstyletypeid  0.858438  0.866357  0.861571  LGR\n",
       "buildingqualitytypeid     0.811092  0.708844  0.918914   RF\n",
       "numberofstories           0.764357  0.687398  0.919020   RF"
      ]
     },
     "execution_count": 28,
     "metadata": {},
     "output_type": "execute_result"
    }
   ],
   "source": [
    "cat_info"
   ]
  },
  {
   "cell_type": "markdown",
   "metadata": {},
   "source": [
    "Cross validate final training data prior to optimzation for a baseline"
   ]
  },
  {
   "cell_type": "code",
   "execution_count": 7,
   "metadata": {
    "collapsed": false
   },
   "outputs": [
    {
     "data": {
      "text/plain": [
       "0.02984120862748723"
      ]
     },
     "execution_count": 7,
     "metadata": {},
     "output_type": "execute_result"
    }
   ],
   "source": [
    "target = final_train['logerror'] #pull y from training data\n",
    "final_train_2 = final_train.drop(final_train[['logerror']],axis=1) \n",
    "\n",
    "kfold = cross_validation.KFold(len(final_train_2),n_folds=5, random_state=42) #kfold\n",
    "\n",
    "RF_pred_error = [] #store errors\n",
    "for train, test in kfold :\n",
    "    x_train, x_test, y_train, y_test = final_train_2.iloc[train], final_train_2.iloc[test], target[train], target[test]\n",
    "    RF = ensemble.RandomForestRegressor() #best performer on factors\n",
    "    RF.fit(x_train,y_train)\n",
    "    y_pred = RF.predict(x_test)\n",
    "    RF_MSE = metrics.mean_squared_error(y_test,y_pred) #check mse\n",
    "    RF_pred_error.append(RF_MSE) #append\n",
    "RF_mean = np.mean(RF_pred_error) #mean of all errors\n",
    "RF_mean"
   ]
  },
  {
   "cell_type": "markdown",
   "metadata": {},
   "source": [
    "Use grid search to optimize hyperparameters"
   ]
  },
  {
   "cell_type": "code",
   "execution_count": 8,
   "metadata": {
    "collapsed": false
   },
   "outputs": [
    {
     "data": {
      "text/plain": [
       "GridSearchCV(cv=5, error_score='raise',\n",
       "       estimator=RandomForestRegressor(bootstrap=True, criterion='mse', max_depth=None,\n",
       "           max_features='auto', max_leaf_nodes=None,\n",
       "           min_impurity_split=1e-07, min_samples_leaf=1,\n",
       "           min_samples_split=2, min_weight_fraction_leaf=0.0,\n",
       "           n_estimators=10, n_jobs=1, oob_score=False, random_state=None,\n",
       "           verbose=0, warm_start=False),\n",
       "       fit_params={}, iid=True, n_jobs=1,\n",
       "       param_grid=[{'n_estimators': [10, 20, 30, 40, 50], 'max_features': [5, 10, 15, 20]}],\n",
       "       pre_dispatch='2*n_jobs', refit=True, return_train_score=True,\n",
       "       scoring='neg_mean_squared_error', verbose=0)"
      ]
     },
     "execution_count": 8,
     "metadata": {},
     "output_type": "execute_result"
    }
   ],
   "source": [
    "param_grid =[{'n_estimators':[10,20,30,40,50], 'max_features':[5,10,15,20]}] #random numbers\n",
    "\n",
    "RF = ensemble.RandomForestRegressor()\n",
    "grid_search = model_selection.GridSearchCV(RF,param_grid,cv=5,scoring='neg_mean_squared_error')\n",
    "grid_search.fit(final_train_2,target)"
   ]
  },
  {
   "cell_type": "code",
   "execution_count": 9,
   "metadata": {
    "collapsed": false
   },
   "outputs": [
    {
     "data": {
      "text/plain": [
       "RandomForestRegressor(bootstrap=True, criterion='mse', max_depth=None,\n",
       "           max_features=5, max_leaf_nodes=None, min_impurity_split=1e-07,\n",
       "           min_samples_leaf=1, min_samples_split=2,\n",
       "           min_weight_fraction_leaf=0.0, n_estimators=50, n_jobs=1,\n",
       "           oob_score=False, random_state=None, verbose=0, warm_start=False)"
      ]
     },
     "execution_count": 9,
     "metadata": {},
     "output_type": "execute_result"
    }
   ],
   "source": [
    "grid_search.best_estimator_ #print best estimator"
   ]
  },
  {
   "cell_type": "code",
   "execution_count": 10,
   "metadata": {
    "collapsed": false
   },
   "outputs": [
    {
     "data": {
      "text/plain": [
       "{'max_features': 5, 'n_estimators': 50}"
      ]
     },
     "execution_count": 10,
     "metadata": {},
     "output_type": "execute_result"
    }
   ],
   "source": [
    "grid_search.best_params_ #best paramaeters"
   ]
  },
  {
   "cell_type": "markdown",
   "metadata": {},
   "source": [
    "Optomize round 2"
   ]
  },
  {
   "cell_type": "code",
   "execution_count": 12,
   "metadata": {
    "collapsed": false
   },
   "outputs": [
    {
     "data": {
      "text/plain": [
       "GridSearchCV(cv=5, error_score='raise',\n",
       "       estimator=RandomForestRegressor(bootstrap=True, criterion='mse', max_depth=None,\n",
       "           max_features='auto', max_leaf_nodes=None,\n",
       "           min_impurity_split=1e-07, min_samples_leaf=1,\n",
       "           min_samples_split=2, min_weight_fraction_leaf=0.0,\n",
       "           n_estimators=10, n_jobs=1, oob_score=False, random_state=None,\n",
       "           verbose=0, warm_start=False),\n",
       "       fit_params={}, iid=True, n_jobs=1,\n",
       "       param_grid=[{'n_estimators': [50, 55, 60, 65, 70], 'max_features': [3, 4, 5, 6, 7]}],\n",
       "       pre_dispatch='2*n_jobs', refit=True, return_train_score=True,\n",
       "       scoring='neg_mean_squared_error', verbose=0)"
      ]
     },
     "execution_count": 12,
     "metadata": {},
     "output_type": "execute_result"
    }
   ],
   "source": [
    "param_grid =[{'n_estimators':[50,55,60,65,70], 'max_features':[3,4,5,6,7]}] #based off of best above, expand search\n",
    "\n",
    "grid_search = model_selection.GridSearchCV(RF,param_grid,cv=5,scoring='neg_mean_squared_error')\n",
    "grid_search.fit(final_train_2,target)"
   ]
  },
  {
   "cell_type": "code",
   "execution_count": 13,
   "metadata": {
    "collapsed": false
   },
   "outputs": [
    {
     "data": {
      "text/plain": [
       "RandomForestRegressor(bootstrap=True, criterion='mse', max_depth=None,\n",
       "           max_features=3, max_leaf_nodes=None, min_impurity_split=1e-07,\n",
       "           min_samples_leaf=1, min_samples_split=2,\n",
       "           min_weight_fraction_leaf=0.0, n_estimators=65, n_jobs=1,\n",
       "           oob_score=False, random_state=None, verbose=0, warm_start=False)"
      ]
     },
     "execution_count": 13,
     "metadata": {},
     "output_type": "execute_result"
    }
   ],
   "source": [
    "grid_search.best_estimator_"
   ]
  },
  {
   "cell_type": "code",
   "execution_count": 14,
   "metadata": {
    "collapsed": false
   },
   "outputs": [
    {
     "data": {
      "text/plain": [
       "{'max_features': 3, 'n_estimators': 65}"
      ]
     },
     "execution_count": 14,
     "metadata": {},
     "output_type": "execute_result"
    }
   ],
   "source": [
    "grid_search.best_params_"
   ]
  },
  {
   "cell_type": "markdown",
   "metadata": {},
   "source": [
    "Optimize round 3"
   ]
  },
  {
   "cell_type": "code",
   "execution_count": 15,
   "metadata": {
    "collapsed": false
   },
   "outputs": [
    {
     "data": {
      "text/plain": [
       "GridSearchCV(cv=5, error_score='raise',\n",
       "       estimator=RandomForestRegressor(bootstrap=True, criterion='mse', max_depth=None,\n",
       "           max_features='auto', max_leaf_nodes=None,\n",
       "           min_impurity_split=1e-07, min_samples_leaf=1,\n",
       "           min_samples_split=2, min_weight_fraction_leaf=0.0,\n",
       "           n_estimators=10, n_jobs=1, oob_score=False, random_state=None,\n",
       "           verbose=0, warm_start=False),\n",
       "       fit_params={}, iid=True, n_jobs=1,\n",
       "       param_grid=[{'n_estimators': [63, 64, 65, 66, 67], 'max_features': [1, 2, 3, 4, 5]}],\n",
       "       pre_dispatch='2*n_jobs', refit=True, return_train_score=True,\n",
       "       scoring='neg_mean_squared_error', verbose=0)"
      ]
     },
     "execution_count": 15,
     "metadata": {},
     "output_type": "execute_result"
    }
   ],
   "source": [
    "param_grid =[{'n_estimators':[63,64,65,66,67], 'max_features':[1,2,3,4,5]}] #based off of best above, expand search even further\n",
    "\n",
    "grid_search = model_selection.GridSearchCV(RF,param_grid,cv=5,scoring='neg_mean_squared_error')\n",
    "grid_search.fit(final_train_2,target)"
   ]
  },
  {
   "cell_type": "code",
   "execution_count": 16,
   "metadata": {
    "collapsed": false
   },
   "outputs": [
    {
     "data": {
      "text/plain": [
       "RandomForestRegressor(bootstrap=True, criterion='mse', max_depth=None,\n",
       "           max_features=2, max_leaf_nodes=None, min_impurity_split=1e-07,\n",
       "           min_samples_leaf=1, min_samples_split=2,\n",
       "           min_weight_fraction_leaf=0.0, n_estimators=65, n_jobs=1,\n",
       "           oob_score=False, random_state=None, verbose=0, warm_start=False)"
      ]
     },
     "execution_count": 16,
     "metadata": {},
     "output_type": "execute_result"
    }
   ],
   "source": [
    "grid_search.best_estimator_"
   ]
  },
  {
   "cell_type": "code",
   "execution_count": 17,
   "metadata": {
    "collapsed": false
   },
   "outputs": [
    {
     "data": {
      "text/plain": [
       "{'max_features': 2, 'n_estimators': 65}"
      ]
     },
     "execution_count": 17,
     "metadata": {},
     "output_type": "execute_result"
    }
   ],
   "source": [
    "grid_search.best_params_ #best within search"
   ]
  },
  {
   "cell_type": "markdown",
   "metadata": {},
   "source": [
    "Cross validate using best model"
   ]
  },
  {
   "cell_type": "code",
   "execution_count": 19,
   "metadata": {
    "collapsed": false
   },
   "outputs": [
    {
     "data": {
      "text/plain": [
       "0.026223138363991379"
      ]
     },
     "execution_count": 19,
     "metadata": {},
     "output_type": "execute_result"
    }
   ],
   "source": [
    "kfold = cross_validation.KFold(len(final_train_2),n_folds=5, random_state=42)\n",
    "\n",
    "RF_pred_error = []\n",
    "for train, test in kfold :\n",
    "    x_train, x_test, y_train, y_test = final_train_2.iloc[train], final_train_2.iloc[test], target[train], target[test]\n",
    "    fin_rf = ensemble.RandomForestRegressor(bootstrap=True, criterion='mse', max_depth=None,\n",
    "           max_features=2, max_leaf_nodes=None, min_impurity_split=1e-07,\n",
    "           min_samples_leaf=1, min_samples_split=2,\n",
    "           min_weight_fraction_leaf=0.0, n_estimators=65, n_jobs=1,\n",
    "           oob_score=False, random_state=None, verbose=0, warm_start=False)\n",
    "    fin_rf.fit(x_train,y_train)\n",
    "    y_pred = fin_rf.predict(x_test)\n",
    "    RF_MSE = metrics.mean_squared_error(y_test,y_pred)\n",
    "    RF_pred_error.append(RF_MSE)\n",
    "RF_mean = np.mean(RF_pred_error)\n",
    "RF_mean"
   ]
  },
  {
   "cell_type": "markdown",
   "metadata": {},
   "source": [
    "Check for overiftting"
   ]
  },
  {
   "cell_type": "code",
   "execution_count": 29,
   "metadata": {
    "collapsed": false
   },
   "outputs": [
    {
     "name": "stdout",
     "output_type": "stream",
     "text": [
      "training MSE: 0.00352745380018\n",
      "prediction MSE: 0.0263115301875\n"
     ]
    }
   ],
   "source": [
    "x_fit_train, x_fit_test, y_fit_train, y_fit_test = model_selection.train_test_split(final_train_2,target, test_size=0.33,random_state=42)\n",
    "\n",
    "RF_fit = ensemble.RandomForestRegressor(bootstrap=True, criterion='mse', max_depth=None,\n",
    "           max_features=2, max_leaf_nodes=None, min_impurity_split=1e-07,\n",
    "           min_samples_leaf=1, min_samples_split=2,\n",
    "           min_weight_fraction_leaf=0.0, n_estimators=65, n_jobs=1,\n",
    "           oob_score=False, random_state=None, verbose=0, warm_start=False)\n",
    "RF_fit.fit(x_fit_train,y_fit_train)\n",
    "y_fit_pred = RF_fit.predict(x_fit_test)\n",
    "y_fit_pred_t = RF_fit.predict(x_fit_train)\n",
    "RF_MSE_train = metrics.mean_squared_error(y_fit_train,y_fit_pred_t) #MSE of predicted train vs actual\n",
    "RF_MSE_test = metrics.mean_squared_error(y_fit_test,y_fit_pred) #MSE of predicted test vs actual\n",
    "\n",
    "print('training MSE:',RF_MSE_train)\n",
    "print('prediction MSE:',RF_MSE_test)"
   ]
  },
  {
   "cell_type": "markdown",
   "metadata": {},
   "source": [
    "Do final prediction"
   ]
  },
  {
   "cell_type": "code",
   "execution_count": 21,
   "metadata": {
    "collapsed": true
   },
   "outputs": [],
   "source": [
    "final_df['year'] = 2016\n",
    "\n",
    "#6 data sets for six predictions\n",
    "final_201610 = final_df.copy()\n",
    "final_201611 = final_df.copy()\n",
    "final_201612 = final_df.copy()\n",
    "\n",
    "final_201710 = final_df.copy()\n",
    "final_201711 = final_df.copy()\n",
    "final_201712 = final_df.copy()\n",
    "\n",
    "#month and year for every period\n",
    "final_201610['month'] =10\n",
    "final_201611['month'] =11\n",
    "final_201612['month'] =12\n",
    "\n",
    "final_201710['month'] =10\n",
    "final_201711['month'] =11\n",
    "final_201712['month'] =12\n",
    "\n",
    "final_201710['year'] = 2017\n",
    "final_201711['year'] = 2017\n",
    "final_201712['year'] = 2017\n",
    "\n",
    "#best model\n",
    "\n",
    "RF = ensemble.RandomForestRegressor(bootstrap=True, criterion='mse', max_depth=None,\n",
    "           max_features=2, max_leaf_nodes=None, min_impurity_split=1e-07,\n",
    "           min_samples_leaf=1, min_samples_split=2,\n",
    "           min_weight_fraction_leaf=0.0, n_estimators=65, n_jobs=1,\n",
    "           oob_score=False, random_state=None, verbose=0, warm_start=False)\n",
    "\n",
    "RF.fit(final_train_2,target)\n",
    "\n",
    "#six predictions\n",
    "pred_201610 = RF.predict(final_201610)\n",
    "pred_201611 = RF.predict(final_201611)\n",
    "pred_201612 = RF.predict(final_201612)\n",
    "\n",
    "pred_201710 = RF.predict(final_201710)\n",
    "pred_201711 = RF.predict(final_201711)\n",
    "pred_201712 = RF.predict(final_201712)"
   ]
  },
  {
   "cell_type": "code",
   "execution_count": 22,
   "metadata": {
    "collapsed": false,
    "scrolled": true
   },
   "outputs": [
    {
     "data": {
      "text/html": [
       "<div>\n",
       "<table border=\"1\" class=\"dataframe\">\n",
       "  <thead>\n",
       "    <tr style=\"text-align: right;\">\n",
       "      <th></th>\n",
       "      <th>ParcelId</th>\n",
       "      <th>201610</th>\n",
       "      <th>201611</th>\n",
       "      <th>201612</th>\n",
       "      <th>201710</th>\n",
       "      <th>201711</th>\n",
       "      <th>201712</th>\n",
       "    </tr>\n",
       "  </thead>\n",
       "  <tbody>\n",
       "    <tr>\n",
       "      <th>0</th>\n",
       "      <td>10754147</td>\n",
       "      <td>-0.006523</td>\n",
       "      <td>0.005374</td>\n",
       "      <td>0.047228</td>\n",
       "      <td>-0.006523</td>\n",
       "      <td>0.005374</td>\n",
       "      <td>0.047228</td>\n",
       "    </tr>\n",
       "    <tr>\n",
       "      <th>1</th>\n",
       "      <td>10759547</td>\n",
       "      <td>0.000452</td>\n",
       "      <td>-0.004654</td>\n",
       "      <td>0.044755</td>\n",
       "      <td>0.000452</td>\n",
       "      <td>-0.004654</td>\n",
       "      <td>0.044755</td>\n",
       "    </tr>\n",
       "    <tr>\n",
       "      <th>2</th>\n",
       "      <td>10843547</td>\n",
       "      <td>0.003280</td>\n",
       "      <td>0.005925</td>\n",
       "      <td>0.011160</td>\n",
       "      <td>0.003280</td>\n",
       "      <td>0.005925</td>\n",
       "      <td>0.011160</td>\n",
       "    </tr>\n",
       "    <tr>\n",
       "      <th>3</th>\n",
       "      <td>10859147</td>\n",
       "      <td>0.019051</td>\n",
       "      <td>0.019922</td>\n",
       "      <td>0.085438</td>\n",
       "      <td>0.019051</td>\n",
       "      <td>0.019922</td>\n",
       "      <td>0.085438</td>\n",
       "    </tr>\n",
       "    <tr>\n",
       "      <th>4</th>\n",
       "      <td>10879947</td>\n",
       "      <td>0.005518</td>\n",
       "      <td>0.006389</td>\n",
       "      <td>0.065071</td>\n",
       "      <td>0.005518</td>\n",
       "      <td>0.006389</td>\n",
       "      <td>0.065071</td>\n",
       "    </tr>\n",
       "  </tbody>\n",
       "</table>\n",
       "</div>"
      ],
      "text/plain": [
       "   ParcelId    201610    201611    201612    201710    201711    201712\n",
       "0  10754147 -0.006523  0.005374  0.047228 -0.006523  0.005374  0.047228\n",
       "1  10759547  0.000452 -0.004654  0.044755  0.000452 -0.004654  0.044755\n",
       "2  10843547  0.003280  0.005925  0.011160  0.003280  0.005925  0.011160\n",
       "3  10859147  0.019051  0.019922  0.085438  0.019051  0.019922  0.085438\n",
       "4  10879947  0.005518  0.006389  0.065071  0.005518  0.006389  0.065071"
      ]
     },
     "execution_count": 22,
     "metadata": {},
     "output_type": "execute_result"
    }
   ],
   "source": [
    "#load sample submission\n",
    "sub = pd.read_csv(r'C:\\Users\\anhem44\\Desktop\\Capstone 2\\sample_submission.csv')\n",
    "\n",
    "#populate sample with predictions\n",
    "sub['201610'] = pred_201610\n",
    "sub['201611'] = pred_201611\n",
    "sub['201612'] = pred_201612\n",
    "sub['201710'] = pred_201710\n",
    "sub['201711'] = pred_201711\n",
    "sub['201712'] = pred_201712\n",
    "sub.head() #check"
   ]
  },
  {
   "cell_type": "code",
   "execution_count": 23,
   "metadata": {
    "collapsed": true
   },
   "outputs": [],
   "source": [
    "sub.to_csv(r'C:\\Users\\anhem44\\Desktop\\Capstone 2\\zillow_submission.csv') #export"
   ]
  },
  {
   "cell_type": "code",
   "execution_count": 26,
   "metadata": {
    "collapsed": false
   },
   "outputs": [
    {
     "data": {
      "text/plain": [
       "<matplotlib.axes._subplots.AxesSubplot at 0x60f514e0>"
      ]
     },
     "execution_count": 26,
     "metadata": {},
     "output_type": "execute_result"
    },
    {
     "data": {
      "image/png": "[encoded data removed]",
      "text/plain": [
       "<matplotlib.figure.Figure at 0x60f51898>"
      ]
     },
     "metadata": {},
     "output_type": "display_data"
    }
   ],
   "source": [
    "features=pd.Series(RF.feature_importances_,index=final_train_2.columns) #print best features\n",
    "features.sort_values(ascending=False).plot(kind='Bar')"
   ]
  }
 ],
 "metadata": {
  "kernelspec": {
   "display_name": "Python 3",
   "language": "python",
   "name": "python3"
  },
  "language_info": {
   "codemirror_mode": {
    "name": "ipython",
    "version": 3
   },
   "file_extension": ".py",
   "mimetype": "text/x-python",
   "name": "python",
   "nbconvert_exporter": "python",
   "pygments_lexer": "ipython3",
   "version": "3.6.0"
  }
 },
 "nbformat": 4,
 "nbformat_minor": 2
}
